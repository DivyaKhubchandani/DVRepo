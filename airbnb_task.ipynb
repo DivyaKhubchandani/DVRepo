{
 "cells": [
  {
   "cell_type": "code",
   "execution_count": 1,
   "id": "79303fce-0824-4d07-b0ed-77966e102c6b",
   "metadata": {},
   "outputs": [],
   "source": [
    "# Importing Libraries"
   ]
  },
  {
   "cell_type": "code",
   "execution_count": 2,
   "id": "85482d13-ce71-4392-9cd6-d035511936f8",
   "metadata": {},
   "outputs": [],
   "source": [
    "import pandas as pd\n",
    "import time\n",
    "from selenium import webdriver\n",
    "from selenium.webdriver.chrome.service import Service\n",
    "from selenium.webdriver.common.by import By\n",
    "from selenium.webdriver.chrome.options import Options"
   ]
  },
  {
   "cell_type": "code",
   "execution_count": 3,
   "id": "6b375c47-0676-4630-a878-edffaf34340b",
   "metadata": {},
   "outputs": [],
   "source": [
    "chrome_options = Options()\n",
    "chrome_options.add_argument(\"--headless\")  # Run headless Chrome (no GUI)\n",
    "chrome_options.add_argument(\"--no-sandbox\")\n",
    "chrome_options.add_argument(\"--disable-dev-shm-usage\")"
   ]
  },
  {
   "cell_type": "code",
   "execution_count": 4,
   "id": "46052eeb-2ba9-4793-8c54-ed43b59a9d13",
   "metadata": {},
   "outputs": [],
   "source": [
    "# Path to the ChromeDriver\n",
    "chrome_driver_path = r\"C:\\Users\\DIVYA\\Downloads\\chromedriver-win64\\chromedriver.exe\""
   ]
  },
  {
   "cell_type": "code",
   "execution_count": 5,
   "id": "3ad9788e-b67d-4aec-8b2e-66d4b397b2ab",
   "metadata": {},
   "outputs": [],
   "source": [
    "# Initializing WebDriver\n",
    "service = Service(chrome_driver_path)\n",
    "driver = webdriver.Chrome(service=service, options=chrome_options)\n",
    "url = \"https://www.airbnb.com/rooms/51522362\"\n",
    "driver.get(url)\n",
    "driver.implicitly_wait(10)"
   ]
  },
  {
   "cell_type": "code",
   "execution_count": 6,
   "id": "298734eb-bda1-433f-a212-c50daa18ecd7",
   "metadata": {},
   "outputs": [
    {
     "name": "stdout",
     "output_type": "stream",
     "text": [
      "Close button clicked successfully!\n"
     ]
    }
   ],
   "source": [
    "try:\n",
    "    button_element = driver.find_element(By.XPATH, \".//div[@class='p1psejvv atm_9s_1bgihbq dir dir-ltr']//span[@class='i3tjjh1 atm_mk_h2mmj6 dir dir-ltr']\")\n",
    "    button_element.click()\n",
    "    print(\"Close button clicked successfully!\")\n",
    "except Exception as e:\n",
    "    print(f\"Error clicking the button: {e}\")"
   ]
  },
  {
   "cell_type": "code",
   "execution_count": 7,
   "id": "ec079fd8-951f-4c9c-80a8-c8b9ceab26d1",
   "metadata": {},
   "outputs": [
    {
     "name": "stdout",
     "output_type": "stream",
     "text": [
      "✸Sunny Studio Cara✸ Vaulted Ceilings + Marble Bath\n"
     ]
    }
   ],
   "source": [
    "# Extracting the title\n",
    "try:\n",
    "    title = driver.find_element(By.XPATH, \".//main//div[@class='_88xxct']//div[@class='_1qquw5y']//span//h1\")\n",
    "    title_text = driver.execute_script(\"return arguments[0].textContent;\", title)\n",
    "    print(f\"{title_text}\")\n",
    "except Exception as e:\n",
    "    title_text = None\n",
    "    print(f\"Error finding title: {e}\")"
   ]
  },
  {
   "cell_type": "code",
   "execution_count": 8,
   "id": "a89f623f-be2c-4aea-aae9-edf7ea461ff8",
   "metadata": {},
   "outputs": [
    {
     "name": "stdout",
     "output_type": "stream",
     "text": [
      "Entire rental unit in Dallas, Texas, United States\n"
     ]
    }
   ],
   "source": [
    "# Extracting the location\n",
    "try:\n",
    "    location_element = driver.find_element(By.XPATH,\n",
    "                                           \".//div[@id='react-application']//main//div[@class='_16e70jgn']//div[@class='toieuka atm_c8_2x1prs atm_g3_1jbyh58 atm_fr_11a07z3 atm_cs_10d11i2 atm_c8_sz6sci__oggzyc atm_g3_17zsb9a__oggzyc atm_fr_kzfbxz__oggzyc dir dir-ltr']//h2\")\n",
    "    location_text = driver.execute_script(\"return arguments[0].textContent;\", location_element)\n",
    "    print(f\"{location_text}\")\n",
    "except Exception as e:\n",
    "    location_text = None\n",
    "    print(f\"Error finding location: {e}\")"
   ]
  },
  {
   "cell_type": "code",
   "execution_count": 9,
   "id": "ff752e56-93db-4d3c-89fa-e0d84b686e22",
   "metadata": {},
   "outputs": [
    {
     "name": "stdout",
     "output_type": "stream",
     "text": [
      "2 guests · \n"
     ]
    }
   ],
   "source": [
    "# Extracting the guest count\n",
    "try:\n",
    "    guest_count_element = driver.find_element(By.XPATH,\n",
    "                                           \".//div[@id='react-application']//main//div[@class='_16e70jgn']//div[@class='o1kjrihn atm_c8_km0zk7 atm_g3_18khvle atm_fr_1m9t47k atm_h3_1y44olf atm_c8_2x1prs__oggzyc atm_g3_1jbyh58__oggzyc atm_fr_11a07z3__oggzyc dir dir-ltr']//li[@class='l7n4lsf atm_9s_1o8liyq_keqd55 dir dir-ltr']\")\n",
    "    guest_count_text = driver.execute_script(\"return arguments[0].textContent;\", guest_count_element)\n",
    "    print(f\"{guest_count_text}\")\n",
    "except Exception as e:\n",
    "    guest_count_text = None\n",
    "    print(f\"Error finding guest count: {e}\")"
   ]
  },
  {
   "cell_type": "code",
   "execution_count": 10,
   "id": "f5046828-174a-47f0-b0d7-6ce44eb64430",
   "metadata": {},
   "outputs": [
    {
     "name": "stdout",
     "output_type": "stream",
     "text": [
      " · 1 bed · \n"
     ]
    }
   ],
   "source": [
    "# Extracting the bed count\n",
    "try:\n",
    "    bed_count_element = driver.find_element(By.XPATH,\n",
    "                                           \".//div[@id='react-application']//main//div[@class='_16e70jgn']//div[@class='o1kjrihn atm_c8_km0zk7 atm_g3_18khvle atm_fr_1m9t47k atm_h3_1y44olf atm_c8_2x1prs__oggzyc atm_g3_1jbyh58__oggzyc atm_fr_11a07z3__oggzyc dir dir-ltr']//li[3]\")\n",
    "    bed_count_text = driver.execute_script(\"return arguments[0].textContent;\", bed_count_element)\n",
    "    print(f\"{bed_count_text}\")\n",
    "except Exception as e:\n",
    "    bed_count_text = None\n",
    "    print(f\"Error finding bed count: {e}\")"
   ]
  },
  {
   "cell_type": "code",
   "execution_count": 11,
   "id": "aca35494-5475-4571-8347-5225866c6151",
   "metadata": {},
   "outputs": [
    {
     "name": "stdout",
     "output_type": "stream",
     "text": [
      " · 1 bathroom\n"
     ]
    }
   ],
   "source": [
    "# Extracting the bath count\n",
    "try:\n",
    "    bath_count_element = driver.find_element(By.XPATH,\n",
    "                                           \".//div[@id='react-application']//main//div[@class='_16e70jgn']//div[@class='o1kjrihn atm_c8_km0zk7 atm_g3_18khvle atm_fr_1m9t47k atm_h3_1y44olf atm_c8_2x1prs__oggzyc atm_g3_1jbyh58__oggzyc atm_fr_11a07z3__oggzyc dir dir-ltr']//li[@class='l7n4lsf atm_9s_1o8liyq_keqd55 dir dir-ltr'][4]\")\n",
    "    bath_count_text = driver.execute_script(\"return arguments[0].textContent;\", bath_count_element)\n",
    "    print(f\"{bath_count_text}\")\n",
    "except Exception as e:\n",
    "    bath_count_text = None\n",
    "    print(f\"Error finding bath count: {e}\")"
   ]
  },
  {
   "cell_type": "code",
   "execution_count": 12,
   "id": "c3935d3b-123d-4bfb-9b93-7965518352e1",
   "metadata": {},
   "outputs": [
    {
     "name": "stdout",
     "output_type": "stream",
     "text": [
      "Hosted by Shelby\n"
     ]
    }
   ],
   "source": [
    "# Extracting the host name\n",
    "try:\n",
    "    host_element = driver.find_element(By.XPATH,\n",
    "                                           \".//div[@id='react-application']//main//div[@class='_16e70jgn']//div[@data-section-id='HOST_OVERVIEW_DEFAULT']//div[@class='t1pxe1a4 atm_c8_2x1prs atm_g3_1jbyh58 atm_fr_11a07z3 atm_cs_10d11i2 dir dir-ltr']\")\n",
    "    host_text = driver.execute_script(\"return arguments[0].textContent;\", host_element)\n",
    "    print(f\"{host_text}\")\n",
    "except Exception as e:\n",
    "    host_text = None\n",
    "    print(f\"Error finding host name: {e}\")"
   ]
  },
  {
   "cell_type": "code",
   "execution_count": 13,
   "id": "0f7999f7-27a1-40ac-af10-aeb2c05553aa",
   "metadata": {},
   "outputs": [],
   "source": [
    "# Creating a DataFrame for listing details\n",
    "listing_data = {\n",
    "    'Title': [title_text],\n",
    "    'Location': [location_text],\n",
    "    'Guest Count': [guest_count_text],\n",
    "    'Bed Count': [bed_count_text],\n",
    "    'Bath Count': [bath_count_text],\n",
    "    'Host Name': [host_text]\n",
    "}\n",
    "df_listing = pd.DataFrame(listing_data)"
   ]
  },
  {
   "cell_type": "code",
   "execution_count": 14,
   "id": "641ada26-9998-4e9d-b90b-5d52beb723fb",
   "metadata": {},
   "outputs": [
    {
     "name": "stdout",
     "output_type": "stream",
     "text": [
      "Listing Details Saved!\n"
     ]
    }
   ],
   "source": [
    "# Saving listing details to an Excel file\n",
    "df_listing.to_excel(r'C:\\Users\\DIVYA\\Documents\\Task1\\airbnb_listing_details.xlsx', index=False)\n",
    "print(\"Listing Details Saved!\")"
   ]
  },
  {
   "cell_type": "code",
   "execution_count": 15,
   "id": "c78fd1d4-c66c-4c62-b748-10cf461fa9b3",
   "metadata": {},
   "outputs": [],
   "source": [
    "scroll_pause_time = 2\n",
    "max_scroll_attempts = 10  # Setting a limit for how many times to scroll\n",
    "button_found = False"
   ]
  },
  {
   "cell_type": "code",
   "execution_count": 16,
   "id": "fe1a2761-2db9-4a97-aa37-edf2e882ac4f",
   "metadata": {},
   "outputs": [
    {
     "name": "stdout",
     "output_type": "stream",
     "text": [
      "Button clicked successfully!\n"
     ]
    }
   ],
   "source": [
    "for i in range(max_scroll_attempts):\n",
    "    try:\n",
    "        # Trying to find the \"Show all reviews\" button\n",
    "        show_reviews_button = driver.find_element(By.XPATH, \".//button[@data-testid='pdp-show-all-reviews-button']\")\n",
    "        button_found = True\n",
    "        show_reviews_button.click()\n",
    "        print(\"Button clicked successfully!\")\n",
    "        time.sleep(5)  # Waiting for reviews modal to load\n",
    "        break\n",
    "    except Exception as e:\n",
    "        print(f\"Button not found yet, scrolling down. Attempt {i+1}/{max_scroll_attempts}\")\n",
    "        # Scrolling down the page in increments\n",
    "        driver.execute_script(\"window.scrollBy(0, 1000);\")\n",
    "        time.sleep(scroll_pause_time)"
   ]
  },
  {
   "cell_type": "code",
   "execution_count": 17,
   "id": "9b880a06-b254-4a7b-b476-63ef4665d968",
   "metadata": {},
   "outputs": [
    {
     "name": "stdout",
     "output_type": "stream",
     "text": [
      "Reached the end of the content.\n",
      "Scrolled the dialog box to its full length.\n"
     ]
    }
   ],
   "source": [
    "# Scrolling the reviews dialog box\n",
    "try:\n",
    "    # Finding the dialog box\n",
    "    dialog_box = driver.find_element(By.XPATH, \".//div[@class='p1psejvv atm_9s_1bgihbq dir dir-ltr']//div[@role='dialog']//div[@class='_17itzz4']\")\n",
    "    # Ensuring the dialog box is in view\n",
    "    driver.execute_script(\"arguments[0].scrollIntoView(true);\", dialog_box)\n",
    "    time.sleep(2)  # Waiting for the dialog box to be fully in view\n",
    "    # Initializing variables for scrolling\n",
    "    last_height = driver.execute_script(\"return arguments[0].scrollHeight;\", dialog_box)\n",
    "    scroll_increment = 1500\n",
    "    scroll_pause_time = 1\n",
    "    while True:\n",
    "        # Scrolling down by the increment\n",
    "        driver.execute_script(\"arguments[0].scrollTop = arguments[0].scrollHeight;\", dialog_box)\n",
    "        time.sleep(scroll_pause_time)\n",
    "        new_height = driver.execute_script(\"return arguments[0].scrollHeight;\", dialog_box)\n",
    "        # If no more new content is loaded, stopping the scrolling\n",
    "        if new_height == last_height:\n",
    "            print(\"Reached the end of the content.\")\n",
    "            break\n",
    "        last_height = new_height\n",
    "    print(\"Scrolled the dialog box to its full length.\")\n",
    "    time.sleep(5)\n",
    "except Exception as e:\n",
    "    print(f\"Error scrolling the dialog box: {e}\")"
   ]
  },
  {
   "cell_type": "code",
   "execution_count": 18,
   "id": "77cd40e9-fea9-4edf-b78d-940b73e21c89",
   "metadata": {},
   "outputs": [],
   "source": [
    "# XPath for the review elements to loop over\n",
    "name_pattern = \".//div[@class='p1psejvv atm_9s_1bgihbq dir dir-ltr']//div[@class='_3hmsj']//div[@class='_1tqgvho']//div[@data-testid='pdp-reviews-modal-scrollable-panel']//div[@class='r1are2x1 atm_gq_1vi7ecw dir dir-ltr'][{i}]//h2\"\n",
    "location_pattern = \".//div[@class='p1psejvv atm_9s_1bgihbq dir dir-ltr']//div[@class='_3hmsj']//div[@class='_1tqgvho']//div[@data-testid='pdp-reviews-modal-scrollable-panel']//div[@class='r1are2x1 atm_gq_1vi7ecw dir dir-ltr'][{i}]//div[@class='s15w4qkt atm_c8_1w0928g atm_g3_1dd5bz5 atm_cs_6adqpa atm_7l_1wzk1hz dir dir-ltr']\"\n",
    "ratings_pattern = \".//div[@class='p1psejvv atm_9s_1bgihbq dir dir-ltr']//div[@class='_3hmsj']//div[@class='_1tqgvho']//div[@data-testid='pdp-reviews-modal-scrollable-panel']//div[@class='r1are2x1 atm_gq_1vi7ecw dir dir-ltr'][{i}]//div[@class='c5dn5hn atm_9s_1txwivl atm_cx_t94yts dir dir-ltr']//span\"\n",
    "reviews_pattern = \".//div[@class='p1psejvv atm_9s_1bgihbq dir dir-ltr']//div[@class='_3hmsj']//div[@class='_1tqgvho']//div[@data-testid='pdp-reviews-modal-scrollable-panel']//div[@class='r1are2x1 atm_gq_1vi7ecw dir dir-ltr'][{i}]//div[@class='r1bctolv atm_c8_1sjzizj atm_g3_1dgusqm atm_26_lfmit2_13uojos atm_5j_1y44olf_13uojos atm_l8_1s2714j_13uojos dir dir-ltr']//span[@class='lrl13de atm_kd_19r6f69_24z95b atm_kd_19r6f69_1xbvphn_1oszvuo dir dir-ltr']\""
   ]
  },
  {
   "cell_type": "code",
   "execution_count": 19,
   "id": "b33be7a9-2138-4d30-966f-07829ebea681",
   "metadata": {},
   "outputs": [
    {
     "name": "stdout",
     "output_type": "stream",
     "text": [
      "Review 1: Name: Michael\n",
      "Review 2: Name: Qayyum\n",
      "Review 3: Name: Johnny\n",
      "Review 4: Name: Gerrell\n",
      "Review 5: Name: Chelsea\n",
      "Review 6: Name: Emily\n",
      "Review 7: Name: Lindsey\n",
      "Review 8: Name: Robert\n",
      "Review 9: Name: Kat\n",
      "Review 10: Name: Mikhail\n",
      "Review 11: Name: Tee\n",
      "Review 12: Name: Michael\n",
      "Review 13: Name: Rebecca\n",
      "Review 14: Name: Cortland\n",
      "Review 15: Name: Ruhi\n",
      "Review 16: Name: Kalee\n",
      "Review 17: Name: Massimo\n",
      "Review 18: Name: Janice\n",
      "Review 19: Name: Samantha\n",
      "Review 20: Name: Jack\n",
      "Review 21: Name: Fidel\n",
      "Review 22: Name: Clare\n",
      "Review 23: Name: Cheyenne\n",
      "Review 24: Name: Anna\n",
      "Review 25: Name: Jon\n",
      "Review 26: Name: Elijah\n",
      "Review 27: Name: Charlie\n",
      "Review 28: Name: Jessica\n",
      "Review 29: Name: Luke\n",
      "Review 30: Name: Roxana\n",
      "Review 31: Name: Angelica\n",
      "Review 32: Name: Hannah\n",
      "Review 33: Name: Melannie\n",
      "Review 34: Name: Diana Julieta\n"
     ]
    }
   ],
   "source": [
    "# Finding the total number of review sections\n",
    "sections = driver.find_elements(By.XPATH, \".//div[@class='p1psejvv atm_9s_1bgihbq dir dir-ltr']//div[@class='_3hmsj']//div[@class='_1tqgvho']//div[@data-testid='pdp-reviews-modal-scrollable-panel']//div[@class='r1are2x1 atm_gq_1vi7ecw dir dir-ltr']\")\n",
    "reviews_data = []\n",
    "for i in range(1, len(sections) + 1):\n",
    "    try:\n",
    "        name_xpath = name_pattern.format(i=i)\n",
    "        location_xpath = location_pattern.format(i=i)\n",
    "        rating_xpath = ratings_pattern.format(i=i)\n",
    "        review_xpath = reviews_pattern.format(i=i)\n",
    "\n",
    "        # Finding and extracting the review details\n",
    "        name = driver.find_element(By.XPATH, name_xpath).text\n",
    "        location = driver.find_element(By.XPATH, location_xpath).text\n",
    "        rating = driver.find_element(By.XPATH, rating_xpath).text\n",
    "        review = driver.find_element(By.XPATH, review_xpath).text\n",
    "\n",
    "        # Appending the details to the reviews_data list\n",
    "        reviews_data.append({\n",
    "            'Name': name,\n",
    "            'Location': location,\n",
    "            'Rating': rating,\n",
    "            'Review': review\n",
    "        })\n",
    "        print(f\"Review {i}: Name: {name}\")\n",
    "    except Exception as e:\n",
    "        print(f\"Error finding reviews at index {i}: {e}\")"
   ]
  },
  {
   "cell_type": "code",
   "execution_count": 20,
   "id": "37ffc615-112d-4c43-a7fb-4a13deb37ca7",
   "metadata": {},
   "outputs": [],
   "source": [
    "# Saving data to Excel\n",
    "df = pd.DataFrame(reviews_data)\n",
    "df.to_excel(r'C:\\Users\\DIVYA\\Documents\\Task1\\reviews.xlsx', index=False)"
   ]
  },
  {
   "cell_type": "code",
   "execution_count": 21,
   "id": "90a01c80-ac40-4ee8-bfc6-8a7709e5eaca",
   "metadata": {},
   "outputs": [
    {
     "name": "stdout",
     "output_type": "stream",
     "text": [
      "Done!\n"
     ]
    }
   ],
   "source": [
    "# Closing the WebDriver\n",
    "driver.quit()\n",
    "print(\"Done!\")"
   ]
  },
  {
   "cell_type": "code",
   "execution_count": null,
   "id": "1d203978-0806-4e55-ba90-9583c2f38467",
   "metadata": {},
   "outputs": [],
   "source": []
  }
 ],
 "metadata": {
  "kernelspec": {
   "display_name": "Python 3 (ipykernel)",
   "language": "python",
   "name": "python3"
  },
  "language_info": {
   "codemirror_mode": {
    "name": "ipython",
    "version": 3
   },
   "file_extension": ".py",
   "mimetype": "text/x-python",
   "name": "python",
   "nbconvert_exporter": "python",
   "pygments_lexer": "ipython3",
   "version": "3.12.4"
  }
 },
 "nbformat": 4,
 "nbformat_minor": 5
}
